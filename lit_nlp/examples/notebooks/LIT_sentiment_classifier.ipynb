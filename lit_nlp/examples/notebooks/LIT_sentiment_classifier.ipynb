{
 "cells": [
  {
   "cell_type": "markdown",
   "metadata": {
    "id": "h2c6PyqQaNiA"
   },
   "source": [
    "# Using the Language Interpretability Tool in Notebooks\n",
    "\n",
    "This notebook shows use of the [Language Interpretability Tool](https://pair-code.github.io/lit) on a binary classifier for labelling statement sentiment (0 for negative, 1 for positive).\n",
    "\n",
    "The LitWidget object constructor takes a dict mapping model names to model objects, and a dict mapping dataset names to dataset objects. Those will be the datasets and models displayed in LIT. It also optionally takes in a `height` parameter for how tall to render the LIT UI in pixels (it defaults to 1000 pixels). Running the constructor will cause the LIT server to be started in the background, loading the models and datasets and enabling the UI to be served.\n",
    "\n",
    "Render the LIT UI in an output cell by calling the `render` method on the LitWidget object. The LIT UI can be rendered multiple times in separate cells if desired. The widget also contains a `stop` method to shut down the LIT server.\n",
    "\n",
    "Copyright 2020 Google LLC.\n",
    "SPDX-License-Identifier: Apache-2.0"
   ]
  },
  {
   "cell_type": "code",
   "execution_count": 1,
   "metadata": {
    "id": "ukXamAB_FBM8"
   },
   "outputs": [
    {
     "name": "stdout",
     "output_type": "stream",
     "text": [
      "\u001b[33mWARNING: Skipping tensorflow-datasets as it is not installed.\u001b[0m\u001b[33m\n",
      "\u001b[0mRequirement already satisfied: lit_nlp in /home/yun.hy/.conda/envs/lit-nlp/lib/python3.7/site-packages (0.4.1)\n",
      "Requirement already satisfied: tfds-nightly in /home/yun.hy/.conda/envs/lit-nlp/lib/python3.7/site-packages (4.7.0.dev202211280045)\n",
      "Requirement already satisfied: transformers==4.1.1 in /home/yun.hy/.conda/envs/lit-nlp/lib/python3.7/site-packages (4.1.1)\n",
      "Requirement already satisfied: numpy in /home/yun.hy/.conda/envs/lit-nlp/lib/python3.7/site-packages (from transformers==4.1.1) (1.21.5)\n",
      "Requirement already satisfied: requests in /home/yun.hy/.conda/envs/lit-nlp/lib/python3.7/site-packages (from transformers==4.1.1) (2.28.1)\n",
      "Requirement already satisfied: packaging in /home/yun.hy/.conda/envs/lit-nlp/lib/python3.7/site-packages (from transformers==4.1.1) (21.3)\n",
      "Requirement already satisfied: tokenizers==0.9.4 in /home/yun.hy/.conda/envs/lit-nlp/lib/python3.7/site-packages (from transformers==4.1.1) (0.9.4)\n",
      "Requirement already satisfied: filelock in /home/yun.hy/.conda/envs/lit-nlp/lib/python3.7/site-packages (from transformers==4.1.1) (3.8.0)\n",
      "Requirement already satisfied: tqdm>=4.27 in /home/yun.hy/.conda/envs/lit-nlp/lib/python3.7/site-packages (from transformers==4.1.1) (4.64.1)\n",
      "Requirement already satisfied: regex!=2019.12.17 in /home/yun.hy/.conda/envs/lit-nlp/lib/python3.7/site-packages (from transformers==4.1.1) (2022.10.31)\n",
      "Requirement already satisfied: sacremoses in /home/yun.hy/.local/lib/python3.7/site-packages (from transformers==4.1.1) (0.0.45)\n",
      "Requirement already satisfied: pandas in /home/yun.hy/.conda/envs/lit-nlp/lib/python3.7/site-packages (from lit_nlp) (1.3.5)\n",
      "Requirement already satisfied: ml-collections in /home/yun.hy/.conda/envs/lit-nlp/lib/python3.7/site-packages (from lit_nlp) (0.1.1)\n",
      "Requirement already satisfied: scipy in /home/yun.hy/.conda/envs/lit-nlp/lib/python3.7/site-packages (from lit_nlp) (1.7.3)\n",
      "Requirement already satisfied: absl-py in /home/yun.hy/.conda/envs/lit-nlp/lib/python3.7/site-packages (from lit_nlp) (0.10.0)\n",
      "Requirement already satisfied: sacrebleu in /home/yun.hy/.conda/envs/lit-nlp/lib/python3.7/site-packages (from lit_nlp) (2.3.1)\n",
      "Requirement already satisfied: portpicker in /home/yun.hy/.conda/envs/lit-nlp/lib/python3.7/site-packages (from lit_nlp) (1.5.2)\n",
      "Requirement already satisfied: Werkzeug in /home/yun.hy/.conda/envs/lit-nlp/lib/python3.7/site-packages (from lit_nlp) (2.2.2)\n",
      "Requirement already satisfied: attrs in /home/yun.hy/.conda/envs/lit-nlp/lib/python3.7/site-packages (from lit_nlp) (22.1.0)\n",
      "Requirement already satisfied: scikit-learn in /home/yun.hy/.conda/envs/lit-nlp/lib/python3.7/site-packages (from lit_nlp) (1.0.2)\n",
      "Requirement already satisfied: umap-learn in /home/yun.hy/.conda/envs/lit-nlp/lib/python3.7/site-packages (from lit_nlp) (0.5.1)\n",
      "Requirement already satisfied: dm-tree in /home/yun.hy/.conda/envs/lit-nlp/lib/python3.7/site-packages (from tfds-nightly) (0.1.7)\n",
      "Requirement already satisfied: termcolor in /home/yun.hy/.conda/envs/lit-nlp/lib/python3.7/site-packages (from tfds-nightly) (1.1.0)\n",
      "Requirement already satisfied: protobuf>=3.12.2 in /home/yun.hy/.conda/envs/lit-nlp/lib/python3.7/site-packages (from tfds-nightly) (3.20.3)\n",
      "Requirement already satisfied: dill in /home/yun.hy/.conda/envs/lit-nlp/lib/python3.7/site-packages (from tfds-nightly) (0.3.6)\n",
      "Requirement already satisfied: promise in /home/yun.hy/.conda/envs/lit-nlp/lib/python3.7/site-packages (from tfds-nightly) (2.3)\n",
      "Requirement already satisfied: etils[epath] in /home/yun.hy/.conda/envs/lit-nlp/lib/python3.7/site-packages (from tfds-nightly) (0.9.0)\n",
      "Requirement already satisfied: six in /home/yun.hy/.conda/envs/lit-nlp/lib/python3.7/site-packages (from tfds-nightly) (1.16.0)\n",
      "Requirement already satisfied: tensorflow-metadata in /home/yun.hy/.conda/envs/lit-nlp/lib/python3.7/site-packages (from tfds-nightly) (1.11.0)\n",
      "Requirement already satisfied: toml in /home/yun.hy/.conda/envs/lit-nlp/lib/python3.7/site-packages (from tfds-nightly) (0.10.2)\n",
      "Requirement already satisfied: typing-extensions in /home/yun.hy/.conda/envs/lit-nlp/lib/python3.7/site-packages (from tfds-nightly) (4.4.0)\n",
      "Requirement already satisfied: importlib-resources in /home/yun.hy/.conda/envs/lit-nlp/lib/python3.7/site-packages (from tfds-nightly) (5.10.0)\n",
      "Requirement already satisfied: urllib3<1.27,>=1.21.1 in /home/yun.hy/.conda/envs/lit-nlp/lib/python3.7/site-packages (from requests->transformers==4.1.1) (1.26.13)\n",
      "Requirement already satisfied: certifi>=2017.4.17 in /home/yun.hy/.conda/envs/lit-nlp/lib/python3.7/site-packages (from requests->transformers==4.1.1) (2022.9.24)\n",
      "Requirement already satisfied: idna<4,>=2.5 in /home/yun.hy/.conda/envs/lit-nlp/lib/python3.7/site-packages (from requests->transformers==4.1.1) (3.4)\n",
      "Requirement already satisfied: charset-normalizer<3,>=2 in /home/yun.hy/.conda/envs/lit-nlp/lib/python3.7/site-packages (from requests->transformers==4.1.1) (2.1.1)\n",
      "Requirement already satisfied: zipp in /home/yun.hy/.conda/envs/lit-nlp/lib/python3.7/site-packages (from etils[epath]->tfds-nightly) (3.11.0)\n",
      "Requirement already satisfied: contextlib2 in /home/yun.hy/.conda/envs/lit-nlp/lib/python3.7/site-packages (from ml-collections->lit_nlp) (21.6.0)\n",
      "Requirement already satisfied: PyYAML in /home/yun.hy/.conda/envs/lit-nlp/lib/python3.7/site-packages (from ml-collections->lit_nlp) (6.0)\n",
      "Requirement already satisfied: pyparsing!=3.0.5,>=2.0.2 in /home/yun.hy/.conda/envs/lit-nlp/lib/python3.7/site-packages (from packaging->transformers==4.1.1) (3.0.9)\n",
      "Requirement already satisfied: python-dateutil>=2.7.3 in /home/yun.hy/.conda/envs/lit-nlp/lib/python3.7/site-packages (from pandas->lit_nlp) (2.8.2)\n",
      "Requirement already satisfied: pytz>=2017.3 in /home/yun.hy/.conda/envs/lit-nlp/lib/python3.7/site-packages (from pandas->lit_nlp) (2022.1)\n",
      "Requirement already satisfied: psutil in /home/yun.hy/.conda/envs/lit-nlp/lib/python3.7/site-packages (from portpicker->lit_nlp) (5.9.4)\n",
      "Requirement already satisfied: colorama in /home/yun.hy/.conda/envs/lit-nlp/lib/python3.7/site-packages (from sacrebleu->lit_nlp) (0.4.6)\n",
      "Requirement already satisfied: lxml in /home/yun.hy/.conda/envs/lit-nlp/lib/python3.7/site-packages (from sacrebleu->lit_nlp) (4.9.1)\n",
      "Requirement already satisfied: tabulate>=0.8.9 in /home/yun.hy/.conda/envs/lit-nlp/lib/python3.7/site-packages (from sacrebleu->lit_nlp) (0.9.0)\n",
      "Requirement already satisfied: portalocker in /home/yun.hy/.conda/envs/lit-nlp/lib/python3.7/site-packages (from sacrebleu->lit_nlp) (2.6.0)\n",
      "Requirement already satisfied: joblib in /home/yun.hy/.conda/envs/lit-nlp/lib/python3.7/site-packages (from sacremoses->transformers==4.1.1) (1.1.1)\n",
      "Requirement already satisfied: click in /home/yun.hy/.conda/envs/lit-nlp/lib/python3.7/site-packages (from sacremoses->transformers==4.1.1) (8.1.3)\n",
      "Requirement already satisfied: threadpoolctl>=2.0.0 in /home/yun.hy/.conda/envs/lit-nlp/lib/python3.7/site-packages (from scikit-learn->lit_nlp) (2.2.0)\n",
      "Requirement already satisfied: googleapis-common-protos<2,>=1.52.0 in /home/yun.hy/.conda/envs/lit-nlp/lib/python3.7/site-packages (from tensorflow-metadata->tfds-nightly) (1.57.0)\n",
      "Requirement already satisfied: numba>=0.49 in /home/yun.hy/.conda/envs/lit-nlp/lib/python3.7/site-packages (from umap-learn->lit_nlp) (0.53.1)\n",
      "Requirement already satisfied: pynndescent>=0.5 in /home/yun.hy/.conda/envs/lit-nlp/lib/python3.7/site-packages (from umap-learn->lit_nlp) (0.5.8)\n",
      "Requirement already satisfied: MarkupSafe>=2.1.1 in /home/yun.hy/.conda/envs/lit-nlp/lib/python3.7/site-packages (from Werkzeug->lit_nlp) (2.1.1)\n",
      "Requirement already satisfied: llvmlite<0.37,>=0.36.0rc1 in /home/yun.hy/.conda/envs/lit-nlp/lib/python3.7/site-packages (from numba>=0.49->umap-learn->lit_nlp) (0.36.0)\n",
      "Requirement already satisfied: setuptools in /home/yun.hy/.conda/envs/lit-nlp/lib/python3.7/site-packages (from numba>=0.49->umap-learn->lit_nlp) (65.5.0)\n",
      "Requirement already satisfied: importlib-metadata>=4.8.1 in /home/yun.hy/.conda/envs/lit-nlp/lib/python3.7/site-packages (from pynndescent>=0.5->umap-learn->lit_nlp) (5.1.0)\n"
     ]
    }
   ],
   "source": [
    "# Install LIT and transformers packages. The transformers package is needed by the model and dataset we are using.\n",
    "# Replace tensorflow-datasets with the nightly package to get up-to-date dataset paths.\n",
    "!pip uninstall -y tensorflow-datasets\n",
    "!pip install lit_nlp tfds-nightly transformers==4.1.1"
   ]
  },
  {
   "cell_type": "code",
   "execution_count": 2,
   "metadata": {
    "id": "30l9ZyTjxJjf"
   },
   "outputs": [
    {
     "name": "stdout",
     "output_type": "stream",
     "text": [
      "wget: /shared/centos7/anaconda3/2022.01/lib/libuuid.so.1: no version information available (required by wget)\n",
      "--2022-11-30 15:05:11--  https://storage.googleapis.com/what-if-tool-resources/lit-models/sst2_tiny.tar.gz\n",
      "Connecting to 10.99.0.130:3128... connected.\n",
      "Proxy request sent, awaiting response... 200 OK\n",
      "Length: 16362834 (16M) [application/octet-stream]\n",
      "Saving to: ‘sst2_tiny.tar.gz’\n",
      "\n",
      "100%[======================================>] 16,362,834  94.1MB/s   in 0.2s   \n",
      "\n",
      "2022-11-30 15:05:11 (94.1 MB/s) - ‘sst2_tiny.tar.gz’ saved [16362834/16362834]\n",
      "\n",
      "./\n",
      "./tokenizer_config.json\n",
      "./tf_model.h5\n",
      "./config.json\n",
      "./train.history.json\n",
      "./vocab.txt\n",
      "./special_tokens_map.json\n"
     ]
    }
   ],
   "source": [
    "# Fetch the trained model weights\n",
    "!wget https://storage.googleapis.com/what-if-tool-resources/lit-models/sst2_tiny.tar.gz\n",
    "!tar -xvf sst2_tiny.tar.gz"
   ]
  },
  {
   "cell_type": "code",
   "execution_count": 3,
   "metadata": {
    "id": "AWhbAZg57RpB"
   },
   "outputs": [
    {
     "name": "stderr",
     "output_type": "stream",
     "text": [
      "/home/yun.hy/.conda/envs/lit-nlp/lib/python3.7/site-packages/tqdm/auto.py:22: TqdmWarning: IProgress not found. Please update jupyter and ipywidgets. See https://ipywidgets.readthedocs.io/en/stable/user_install.html\n",
      "  from .autonotebook import tqdm as notebook_tqdm\n",
      "INFO:absl:Load dataset info from /home/yun.hy/tensorflow_datasets/glue/sst2/2.0.0\n",
      "INFO:absl:Reusing dataset glue (/home/yun.hy/tensorflow_datasets/glue/sst2/2.0.0)\n",
      "INFO:absl:Constructing tf.data.Dataset glue for split validation, from /home/yun.hy/tensorflow_datasets/glue/sst2/2.0.0\n",
      "All model checkpoint layers were used when initializing TFBertForSequenceClassification.\n",
      "\n",
      "All the layers of TFBertForSequenceClassification were initialized from the model checkpoint at ./.\n",
      "If your task is similar to the task the model of the checkpoint was trained on, you can already use TFBertForSequenceClassification for predictions without further training.\n",
      "INFO:absl:\n",
      " (    (           \n",
      " )\\ ) )\\ )  *   ) \n",
      "(()/((()/(` )  /( \n",
      " /(_))/(_))( )(_))\n",
      "(_)) (_)) (_(_()) \n",
      "| |  |_ _||_   _| \n",
      "| |__ | |   | |   \n",
      "|____|___|  |_|   \n",
      "\n",
      "\n",
      "INFO:absl:Starting LIT server...\n",
      "INFO:absl:CachingModelWrapper 'sst_tiny': no cache path specified, not loading.\n",
      "INFO:absl:Warm-start of model 'sst_tiny' on dataset 'sst_dev'\n",
      "INFO:absl:CachingModelWrapper 'sst_tiny': misses (dataset=sst_dev): ['827559828a1681ba9d0d1ec718025cd2', '98d0ff1acb1b1736e8c79fd30ab8a58e', '4f0e2708c7467f14fd7cd703a267cf1d', 'eb90c48a2ebc4bf66e14382739e4d647', 'fcedbabb26d0f144c01847689ff52730', '5cbca5c6b6a27e2678aebda1e7eb1b70', '32ec21d0940f29109e2e72ce9b6aac94', 'a1a90b1d767a59f016bb4cbc7af2b145', 'df3932f52e6925981111126675d88c53', 'cb31a4f739fe4d8581cb12678a406fd9', 'd60a0d8e03cd70bdf3951572c9a0c68e', 'deda1e93d7eb865a6e1b1581e03a862e', '89c7f194b5b929389aa019ee83f72d7d', '8cb29256dac22dfaf9e6dad18a2f5b5c', '03ff3abab73b4aeb5e34c328b20f38f8', '26461ed148d353b5534091a19b5713f2', 'a550ca2540bc1e5b3c492d57887d8f70', '0c9ab2ff23795343031a64add431a718', 'a2af809a01c4553c65d744e3892a817b', 'e82bf14b98b3d0bd2aaf18a190ee30a5', 'c85832a1f9c2f59c5e9bb30918a79ba4', '8aab3b3ea1be2750be9877ec7abdee3d', '989060302551988ea326627988f55aac', '65137aedfa80bb12cb917065ac2b00ea', '696d4c20b25878da0a5c634010c28ce7', 'f932d8f4f74d0eac42fd5f756a95d718', '4fdc038d7c3ef7042882c430bab7b9e4', '919207b281e85185ff7af20ac647de7d', '8334d35060719860583f9506c7e051b1', '6f35b1168fcfa03a01c9d57d7f57bd34', 'a566c948f34a1e1882968ab52123cb34', 'ca6525d1402add6718696461471cb71b', 'a27e43cbe7f2de4fff0e667ec90b8156', 'ebafbec03e7d2d802d2e1cf71940010f', '583f8d44de8aade7ce431feda7b33a22', '62bb273cc8b0ab1b3e35ae4e249f8cb7', '63f88f0f8a9fbba2f36ec04325a39729', '0723593d026c90e653734621a75f780c', '8bf6e73dd7cafae801c6178eceb41e88', '583e9379267559ee39af74f00c249f80', '774e9add9a298d087cb928f1072cc6b5', 'bce979d843cfd6bc3109ad87f8507fbf', 'a1bc96dca7fea69cd77eac9942f74202', 'ae65ff5cb49035483e6a96cee43d86da', '81e0351260b6daab12ff2314061cbeb8', 'dee9b4bf02ca4fa849b0b2c2fd557765', '1c4db1f89a3b584ae533cfa317d0479d', 'a26fb6e14c1b73b5d43f47afda4fd9f6', 'bfb0a24a987da30550b1d48424070a0e', '832a53d178a67e537d6e551fb0c00018', 'eefd97dd68869571c7472d6af94580cb', '7bda7c5756e7043ef00ea25b0a0b2cc7', '769dcb06500c978240549103fd7ef55e', '2c0c84a1ddd61f93e8fe92a9c8ae8d60', 'fc5d89eff8d4716e70da03b0bea049ff', '37db2a297793059967134799629dbbab', '070d812381d16ed96fd2a312b6fa25f5', '4d4501cc39f823eb926c5da1c35a8bd7', '6239bb3f161b0ff801f0cbce652aa6b0', '0fe0b8bd49fec5f46a2535988b0e4515', '31db54ba03c12aa2861b743bb5b66281', '7a9637637502b2642d8e624c50af8bd1', '414cda3b044d0a1931acc5b9098728d4', 'e09ddaacddb1038230935c423302d3b2', '0d0788579d57448ebf2cb7deff3b6f85', 'c412a1c48d0b34410082badeea688170', 'e1e5a538f6e848849a3627a42802c476', '8a0ef9204dcc919cb4e01f151f85c993', 'e569cc5df1f0e6d513bdf5f51c5cc3f5', '667dbfdb8dd6f899a465bd5697a2c5e0', '864064d96d8848c02e8db2beee41a2f2', '3e36ce0466bc86fb0c8ff414e6268353', '84dcba4a072f056ce3c42a6c9a0a5952', '148b38f60c49d8918d47e15b6ddc0aa5', '1958dfc45aa44de7e2e7d30be087e51b', '06038fe0bd54559e51694ece3cbd5fd2', 'b9a3c05e7aa75131c70f90803276f523', '3846902d2abbeed83cfce47d99f52892', 'f0c80052d95df962116bca4960f2af57', 'd48b5f98d0438aa546633dd03effb951', '55e07592e90e5101ce8050fe8695a2a0', '71ea6fee593695e2e79aeb949892473d', '1370b4cb2d09e46dc32c99b2ed4c4aa5', '963d64e2426dfa78ea1b8251f50ed243', 'a71b11500b53071f75b11ebbe4c1feea', '32303ceaf2f48f3cfd384ac28b2fe92a', 'e6badcc64558af908b9c69f304590ffe', '29a6e16efe1367629a9d2a52e41a35b1', '9e79eeb457403d8878cb74b1009ffe63', 'fb8c07949a05dc46e98e0e2b1646d94f', 'f8ad8b762f425e330cdffe99f236032f', '78d96c5a50e03c3a09992a279c81a624', '21447e18cfdac8ecd452b7687904999e', 'd15b7dcab382dbe199d9c2214d72ba03', '1019aa6ad8d7a815a200bdd72a2de136', '1b626b1e2ace23403888ef20ed84d056', '96426a12052b9fa376684a6e96bea904', 'ecc26709e5edd4c62d35adce7d60cafa', 'e41e4e3989c65dde6b853f3f10d9e117', '7a120bf46d75385b0a6c57742b124393', '40aba998232b4991a78786e8b2b0dae5', '3a4921f99effdb518cf156b8055a4aad', 'f1e8d7d0e4c0d287748df327afbdd436', 'b7b1bf8c446c5fa0b1d7fc3375621842', '378469fd00ca69c0741fb867f4a58a6a', 'd34bba9332b5dabb54c8cf4b887bb20d', '14d7b0d78c1c378c5419d4853b85d3aa', '12c4b8cfc761088a7eae2b56928991f2', '5c244d9cd999191aa0fd52075f288854', '706112b3f09654ec7b3ac35c39586ada', '73a74799c4184a7e08f7aa5c8f8fd032', 'd0e13898cbe3c0ccbf144da90c2916ff', '8ba65c9e77fa882aba5a4598650e3d6f', '96ad46c7922fad83a28a5c818620a3fd', '8268f2d6eeefbc76a95e1a5ee4ead443', 'dbf2121bb054d63812619b4685eae892', '512862759b540e9064902a87886ac1d9', 'ba2f06502973e03d10ba1b916c28e58f', '8a3e112c9a08f0986990957404b0fb3c', '542fe74e46d4a101d045194bf2ce20e5', '16e5b2beaf6203099bd53c81a526ae1a', 'bbaf22c4302fddfe28f2127bcca08f3e', '09a6e34eab5ee4940f5ff441c9a9eb51', 'dba54ce98cb1e7ed86c428c767cca0da', 'fc0fc3bdb361b51dda214d297414d452', 'a3b17fe0255a68ca22d6cb07917d8ff1', '2ca5e5afe028bf1bceef8a4853450907', 'f5843c8f9a08c3b9d99b2bdd6abbfc6e', 'e39a5a0b8917f405364db616d8220512', 'e6bec447e2773f636c8181dc42d788eb', '94a8bd52f1296dbea42ac2c40a2bd4c6', 'c383d4b148811f11f55c3be7ca3bc696', 'b3f481b5473c87f15adb11178de51f1e', '830b4a376dfc368f65931c6bc9292ad2', 'cf4765da94b183f21d9ae91ee1318c1f', 'f860d7b5fd1a43f71e7438f0fabce434', '4608dfed6ff3681e943f2cf43578e6b8', '8f893d4ece518c95a27e1681d1efe5f5', '211b14437f99e2eb4317751541ffa819', '439fb568cb987485e7ff649b2c4cd8b3', '020a34c0289cf0881374f57dde4d68b0', '0b7cde348d21b90a082ae8190b86fc37', '7922d080463c4c703739f84fce2fdca3', 'be9fb2ea9071da3fc57f8d31f5c32b17', '20dd90122a7972c1c0dde93c88333061', '22109df78e5509da8b170ae29d37f000', 'c0fe998ae4fe0ec74b37b46448d87fa6', '2d57063cd94eabaf52940e0e98cb2fac', 'c5bd76c31474c4eea1f2d14fda7356da', '0a0b9e6975de50652fdf324db32db811', '61eaba9eeff077e26624c07c1b770178', '45cebc08aea3df9b08bf1d707fe4eab0', '06840eab7d4319ea00c2d199a6968445', 'e8980ee2f9b990dfaad526878ac72fd5', '3c8bd7d712d960ce3841e6a37e359c31', 'a80afe193524d76488e260bcebccecc4', 'cb60577365e523f08df5730c427f9e15', '2c2208c230a77657fe4b90bc9652e0a0', '9734ab37d1c6e0f99fa8cea92b0e6fc0', '80a0f578e4f75f76ad4bbb2541df8b17', 'fc2c42a5ff9b32ba774410adf555229e', 'f5368f9b5599e3a20b8fb2b4bf3f4c30', 'c10f00fc9f52b0c48c2ae062f7cf8709', '182a57d3f49bbbf3c189e6362e15ec4f', 'c0d69a4c819d8da10a3fb832493cd709', '682b6067db2cad77c6ac6e28db0cc907', 'a8877527d441d53cf5203026a00c085b', 'aefef79cb81c0709bf6388b22ff5044a', 'cbb8b09fbf7d9f5414bdacc8d4ffdc0a', '2fe8fcb9d4c4c7f4b509b403efd5ece3', '2219e302ef02e585fa8348b8f8082744', 'a03d1c5a3cf002433b60ce082cfa6c85', '6c1b6cd85536b9111213edf800f42bf8', '7da9a4649f7a2637debd255378b6a0d9', '5d3f6efd76d2762c80979fb0cf8686b3', '42f4adca607f18c029ca7426672961c6', 'ae3044672e75e067ec742ccaf3fac314', 'da6e02c9ab20dd8eee3519752c28b96e', 'f12c412038901da952824c343b076e56', 'b3ccefb193209330e4e7ce95dbb338c0', 'd2bf6496b9959300aa72fd9256fe647a', '35d59c5a84269fea9af26afe959e6b8e', '54fc4358341c5150f0c33596f5b714e1', 'ff839d394e4f1f80d6b78f9cf63ce33e', 'b1a20f2d66cc809f782329477c5c7a84', '633a869f88c783d4b00fb6a892d35b24', '14e1ffd1bad8f3d19ef50bb655623841', 'b5981e4a5d100c5254e1076d139d5da0', '28d78622983e39e2f93c7fafa189290b', '2f19c05392d4164d84e1346a7c22f951', '033f66a32a747e2b4eaf5a5e2426763b', 'aa9ad94da8d566a5a8a469403bbb1f6f', 'ba0e6a20039e1c2d6fa82ac99d3e8028', '65267af6fe6a930b5540dfdc1c264830', 'c792895ca599c68bcfe937f2474c043b', 'a6aadc97599e25771a35ab3fde265cae', '53e16dc6527f76848f139ad0f636d7a6', '9cfac2056f1ea95d5982822b98f5716d', '50a8c8c68f9ff68b1dc2a05808dee0a3', '5b65d66eac1501f6c05ce3950af12f3e', 'cd0e1f0d9a8d551f6b7eb986f9f55bb7', '5c33d916ecfa2d8156e808624f30f5f5', '1267c74dedeac28bcc71c5b416e2ece0', 'd84303ff3380340a2e3d7dc7168033da', '3ba5c13acc42b744e426ae7c7db8054d', 'e9e55e8a89a95e269465e7c67f492194', '00ecca6fcc2925551ccd3e256b2eefb9', '5efd8704be61ae594bae54f39c4c0f4a', '9c11eddbd646fbb77e511ef4a3406c3b', '4f768fc894d0629b31755c60823132f5', '0afc3a8b849d1a54cd33284030495f85', 'efb5aebd96fac22e0ddd21f05cd69d21', '9f0bd05b5049114d263c8f7003be192a', '91dff827369d51cc2f8621ab61d1cc94', 'd29163a741e2037723f40993f2568244', '2c0f3798f670e736b9b7b263a786ac21', 'a847e03395683d2191f623a93b4d608c', 'd50547b6f0f52fe168b6add49a22593b', 'd50bc4e1e550a9e94a1d3995f44d50a7', '999803d86ce48a5fa7929ff79708210c', '4a3312f2b5818d6b50e013648d9c3f15', '51c4397b0d9244f23d2fd320da6040e6', 'ba270d21b3fbc24eb2fa53c6e2720fd5', 'f21eeab2fced639c310d920cd74e5431', 'de229c7ea57cab816de5680953e21a47', '20025cff658174dd74e3769615c43648', 'ca55c205b725d1f147fc2499c5728524', '4f714a71de9b2e9a9a2dc2e321eaf64a', 'f83981b350fb53b965bc4eea71c75a12', '82f89ecbc3a79b6bdba8abe171abe0d3', 'f398188d48d5ba3294815e8d30205fb1', '653f7b23d9a7dcb76db1d98826698de6', '285e3138c2545e35154889cab453521d', 'feeedcabb2e9cb3efd8de2d591bc4035', 'c8c33c5eccd2552f61cdc221120e2aeb', 'a9bba0c10912eeb12a8e8a04178736aa', 'fb14ebac1cefaf09f347578b0e58853c', '2e9b7cfeecfdabe892c15e207d37873c', 'd30593a27bbef1120a06550b4312f927', '50d37a8872d1e7714784d7a30cd29c00', 'bcacdd67e3b372064a39313dd5a48f16', 'c0388fba7adb7a04c42bde4e5f4b1de3', '5008e5166492a2fa38e1158bfcd3631e', 'd7d86450cc3742fdfa7cfb59cf5d6b32', 'b57663af5e8d7d047e0b2f228a97dd4a', 'a723bc53f18f6ab2f99c15bfc76f1317', 'e701200d5f34f13963a3279510b9289b', '5474506b8b1cae109a3ad805308cdddd', '5e37ea3ad4bd4d9064b9980aeac5ec4b', '102ea05493784f38eac5285ba6cea009', 'e9335af55a4b2b1c5a92e1af12f5a2e9', '647e9ea66f93fcc4f3b7dd590f96f512', '86cee10d136700a86a725856135db691', '1d4830b29d7af6f4a0a27ec71be3d561', '435ab15a8736db594fdfc86a83628b94', '2a0a911550fe98261426ddd293ff0d7c', 'a338fd50276a17f29d25e6a819326ed5', '130e376ab33987f59d60656ae4eb7755', 'a9e03f47c8c7a41dbb6ac732d91f9a2d', '2d3ea2a37d186190d727e7f848d32464', '6e590234446cdb36bb8289826e86f3b2', 'b65dd5a392ff44c8b24f90f70f44ea54', 'dc24c5f32c21c826b5c98092b6cba894', '8d6b012287555690a5b7a6af05922ca8', 'f8ee689a8531efe94d9dbca6ca49c122', 'e090d3e26833b90179c953d703b4eb65', '14442404426d1d71308e74b712d917cc', 'b3784dde8d48aca6a8829af6567ea350', 'fb9cd646d63616d3ba172a771cd5aed9', '7255f75546d2dc44990b9c8fa5f6d474', 'd404b02164c95a88a1f5790ab74b90fc', '84610444511b6343e6b8fa8b448169b8', 'e7b90f8c5602a3b6165f0e486d1d08d1', 'cccf0031248224b2c8fd16b53a18bc75', 'b581c5cb74533272a1d4f517346125a0', '6908419814f46a40a269367971871d53', '1c20a5e7dc3df0e5f6314d78ea4b5f2a', 'a565691de267db8702b43007b05b10b8', 'a9553c551d9256e511db2555a10f1794', 'c13b76fa37f57b5c5cfd5fe6cac4d770', 'ba480f394bdc1abebd32d35f8dbd0a7f', 'fe23c932eb44a70555823266c473cac6', 'bf9a5c109a1579abf2a838516935b817', '8bbc06519b0741832576c12703deee45', 'cc84a43e43041aca7921b2c85381c26c', '28004dcc0a133c3522cedc4ed69d00e7', '8ff4e9086885fc437b8356442d7f93cd', 'b5fa4956ef30287c4ebceec7c9c79bb4', '26a67e4efb9a3ab1f259fa37af86f350', 'fd7eaafdcb7825e5144e7249c3346f65', '216a985c34ad494dad8b52d49c482030', '0edfce9481d06a236b97087b57aefcbc', 'befb80c0b2abe496b9c60cf76c663b13', 'dd5302ee1be91f4100d316e73a61d254', '216841de2e009bef8450fad2f62f9c90', 'b1ed135c0898308654e5d71d4150da17', '87ea3baee1c7a29aff063c7da8b77285', '90e1adc4470138708ccc0aadf7616159', '12b492f0f5dba9378acd83ab4717b4b8', '837dd9cadaf47d997486180d13dea857', '20525a5eca3eb5e72b6ba347e211b14b', '6d70b6929867285aeaf1d4bdb9d112a8', '1e2602fbcd7de33897e66091e6f926d5', '2ace97a1f35fe370c7d1094d7d67925a', '9fcedc89ca4f31226c3d0682d151d576', 'd8b7c1763a2618e23427923a98c3b65c', '6cea1fa6bb123e9c2317059b279873cb', '7bf4d0e4d8cf5b0df9b399b9bde1d717', 'bf88e90c081bd39138a35ea5751c229d', '7731b43a566983499a7d2d387723ee69', '1bc58802e8af3181f5e22515ebcec41b', '05960be08635268febabb70261b2e819', 'c8c8528cda151941c3991d554232202e', 'a454a5d6eeb1ece195997a980bf766f9', '86172bdb48adf4c6dbfdc622dd1e785f', 'fa0343d8b266589ff2c4e211e693db75', '1303a0ec6a601cb2e3b053d6e421a080', 'ea196470a5c9604bbbfede3b4f738565', '31a73b5ad001a2898f0d3c88e5ac35e2', 'ef19396dde0600099bb17bd11f622d22', '161ba6849ff60bf80f331b33a3bcd826', '2a8c7241d0e2f4874848d456dcddf912', '70261269db1887a6bdeab435a24bb54f', 'a6cfd9fd75a8cf2fabde3787568c38b1', '0a22964f179b65797dd6884769824607', 'e30a7d585feaaacdc1dafaf815da9621', 'f467b85ca354ea7cbf4fb0ca67f9fe70', 'dddd2a7a3903c6ae2a87919a718cc260', 'e982db8c2d7e35201d5f50e82e544bd2', '49f43dea74b350e4cd324d0da125cf35', '1a0e92c0b1a745cdcf8d590b4a4c6cb3', 'dcb19e10627f5d312e7f003b860b7fe9', '6282cff527c326a55f2bbdc97ce56435', '653b1e48cf0900fe469ca550aa7cfd4f', '5584e873c87cbddd58063cc0aed594df', '5e319f8387bdd86eab4c9fd8f088c9a6', '98379109070a5b163ff99dde883f36a7', 'daaccc1bd72abec74b4582131515c5ec', 'b460cadf7e4988b695409efd7ae28a8a', 'f9919445486a28d58982f7a0e4c6b411', 'd20a00c2da97df09a57442ca5441070d', '57591309430d3e029c7228c23cc91809', '9b9fdf0d5ab72cb732c09ea5f91d9899', '2be2fd0efad3f95c9053b4e81003f89a', '721afebfd251095c36e460b53087e309', '756ba11a6d217b1c4687dd545932a233', '54d537618011130e5d9e61c42422032a', 'd151dcc30927cbd1cd74a9025eeba1b0', '401a1cadd5cb594b8e6561f0f82951c2', '226feab9d8ef35c293c71e58c30a8478', '2cd620ce614348995510debd44a79a0b', 'f69bc20959086d44a36d8eca938fbbb6', '9f9d554894e1613adbd85089f700c5f5', '46c379390afb052cc27f280a0ac51156', '0ffea0b04d97e5731e5e3fb8ea36a25c', '22d5ee93de1ceb8dc7ec70532ef2ac22', 'ee6728e91a1f9ec1e90946478e8393bd', '1bc9374a574fc142da3fade0c367d5aa', '9d2b6077f4dd7eb14421d1ca905861c6', '9818bfb091d8ee0e6a85904457afbfc9', '4d2b0f69e5bece25565c9a8c76152dd7', '4e850645ab8ca66cee546145b295749a', '75252ffa1f9cf6022200227bcc43fba7', 'f5c1ed570538008b5c48fd32dacc8781', '10407a07e6b87854329fe7b8c0704116', 'b0f689c79fd08f4bb81579f0dac238b7', '21e5df75e110696daf2e81f2e81eabf2', '51e381a0cbc8c7d35e922e057747c7ec', '374dbe0a5f231011fa337713ea6fd0f2', 'daee4516a12b456401a1f7c9f1fb7a1f', 'ae0ab7bab20a59d09c194bdb4957cb8e', 'ed72febfd27719bbb65888993267d750', '03184b967747a4467ad3617e2702cfa5', '0281f6d29d9524be82e98d5a3bd416b5', '2838ee72b47500abc969bb01d035f304', '5ca461e64f840a0b03bfdfc18c4f5537', '182c364a938e67fe726fcb18a72fe5f8', '547facb3201fa5ab639bb211e9c96f72', '44c4c5a7f8ee8f86fcf39f9eae747e45', '9fa48678e75f463a2ef28c0038395452', '3f9ceeffe822e868a8402f6780064437', '81b1f59ccd0cfd5b6e45939891366f22', 'dffa76d43249f69cc5be930a49d61297', '994f505ac1912136478eecd2258342ba', '3010ec262cfdae54c598e44aed9a6f75', '92cf29f418295d08e72657fe4f16f960', '4947c4c28fb4b74f44f2014c73e1f199', '4e9061fd867efc74a7ced8267e3b7207', '11a7018bd20b225a1ffb0dce988ffa71', '0ef5f0ad92b202becac5588fed4ccaa8', '1ba63dfca84119c34ccd1f07913f5621', '5c60868a09bbdf92293588b5e6425bd2', 'da74fa1245161eeddaa7c1d79a704e28', '4b1639142b29b28be83fd566f1e3a14a', '42326117975bf7151291c01a149c7139', 'b1c0092eb6c24f161aa919ad451e0cdd', '1c08f7ff52f4662acfdaea1856b53991', '052de804d838fb23ad87d3497ba14d06', '3f347e3829078ed804fa4ae7185736d6', '9df7883626928286f5b6243cff9041cd', 'ca8c262222b015b0b28ccdeae863e59e', '4385d1f14837370e618965f669ca48da', 'ee8be9c27fb081021deb0419bd4f262f', '38c890d7b723823894b7d07576296a38', '4444fbea52ccfe68aeae5cdde65858da', '2e6639645686e41a9f9fc289856398a2', '2327ac72c08c5ffa7277ff315379dd0e', 'dd67e95dde9569eb37516a3d01c7b356', '7277f28b194d2283663f0fba133207fb', '6dc0bf80ad6a6babd35f62768f5ff4ef', 'c3b4fec688341fc3f8fbc0123cd51f41', '111707130af9cc2be3ffd17f8a98a8c0', '66e09903f4b6d8d935d463ab8eb00f84', '500779236b67d0159d73d2edc589835a', 'e6560e8d4b0594ae70c7f29635dd6ea9', '5fe4c31ffd3082e687c942321bbd0103', 'd42e478bf6f154a49299966585fc766b', '720a2aba174145ff68b85165e06cd2fd', 'cc6bebb3e131911d2cc5c1f157c7f86f', 'c04c87182242750b5d58af371f0f9fd9', 'a9530e24f35c604950b02fc8c4e519a1', '8aaf4fa186fde7e277c5852373db3215', '8178b5a1b03d47673356fb4e4cffa24e', '6c665d8ce29ced212ac9c26ac3b16454', 'abefc7240625c02068d461f4962d7155', '75c0d2606abb50a583bad5aaafc918bd', '9474771e0139190870ce55c3997d531d', '5980f222ce56ab7837845f24017b5c66', '658c8a3c21eed28b0fcb376a11a1c977', '405d821fb1b8f10154f3d06eae284195', '96326293b266a868a858d083660ae45f', '9ece3021c25cea89971acb7bd9c94c0d', '2441610f1268883108af59e58f4c5011', '9338d1edc4ec16aba74e02e750ba81f0', 'e2b24286db16820b2177fa3a994a7029', '7e847ba6da56504234953c955d447baf', '353e9a788178e0d6697202e6d235c5de', 'b43f366084f4b77b5a31fd9175273017', 'd68843195e744354155bd15971d5f183', '1a47fc61c23de74b8795271ed2984a81', '2e13d3ecf0f2f29b7b789e6943e57a59', '9be16cce8967cf1421e5c1537a7cce59', '160f16ca18b3ffab507eedafdb876525', 'ea9bafd50930515e3aaf1cdfafef9274', 'c48fbed1c817ee12742d43acb87e76a7', 'd32a718f54540ee8ec79e0f4a1a7958d', 'ad1caf7e6c0ffd4ea5b650e98fcd9598', '7d55c0abc8218d0e96c942d0a4be9e39', '54f92b34a96b32894866786ce4735363', '8bdb82aabcc2f4bf58abad7921777883', '5a270dc941fb61eda5ba93552664a26e', 'bebfd38692bbde0b8bf57cedf34e8180', 'cf04415ad4364d181156db4eb4b915ed', '3c8abaeb6c64494b6e768fa5a911d799', '1914b63168fe8a5c640d6917f831a8a0', 'f8204bf8943da4cb482b1589223e2f98', '4e896954f1458526ef7c08fb82d97afc', 'a0a28f805cd2ba0f253ce0aea5c514f3', '018ac77053a80bccb12c10c382d65d49', 'f3400c280e3a89318c01339a151fa862', '4573df1fcb2fa69ba8e8a0217b7c8196', 'f73bc272ec6df57659161ac9621e162b', 'f64dc7ac86350f1894f9dbe4501deb5a', 'b52b6dee4866ee32878e26bb63078aa9', '4e401370aab62d40dc7be0950f2f555b', 'cdd4474e39e7cd14a660962065ae60d9', 'f0a8222ecab735908c8cd435fae68f1c', '9909cb2ac95ad2f7fe924efc00f043fe', '14e7d65b6d4dcd6bd8d0bb7657d63128', 'e45429ea5812e25ea4e0455e4a7feed4', '942c3d9d3b436ed73094ae0bfeac7c10', '834dc29f238076b6f714324dba20ff82', '17ef52920c698c2702464d7a24ca6b5a', '5341a172abd55b5599090879f4e7936a', '2922cf7ef75df7ef3aca92c001ef3df9', 'ab774ae620c6fdbac23b123ec47bccfa', 'b046f18050467635af578c44d064c458', 'e67da9015034c81cee8bef36ec384bcf', '90dcc2261b9d07afeb4a5a45ea303b54', 'e37d72bde3c939cac152d61f68ddaed7', '444e370b606eb119c986f669b1501e5a', 'f034c747cc6a5e8af59b1d152b20785a', '2a13e6333ebea609a9ec79a81d8582d3', 'de83609b1b0ef95f75ba0fd007efaf5e', '661e1345e6455fc380b5aedf798dac85', '6141bc7a7876ef2bbc18957bda62192c', '0f9345c44370b3e04489af947bea059f', '3bacc08adc349bf47e2a68165607323b', 'bd2e843ad624df1ec44af7249a8e2eaa', '06a525b3b82ab49855251757cd6f7662', '5aa3ab1912b9a66ececfa433ab099ec3', 'f17bf43e58df49deb3c764efa131d606', '6f6396bdfc590a38784be247080b8b59', '7c7aefbeeebe465f06fde6277d574f56', '48cdafcc14b6a51d3ebf0b06f046b69a', '87dd39024705e4a4c3f51479aade5c97', 'c7d4764a04d5fe4723e8e902364168d5', '9297b7b06c41edcb18cfd13678808bf1', '31a4691e0fb4ad3e4ed5fd98341f1c78', 'b802244287e644c2885c1be9d596f3da', '33f758c131029084510c3df8b4d727e9', '4b20fb4018647180d3ae3aad63a1e728', 'eb787b39321b7c9b26afcfb6c202bfa9', '1230cd14ce220450452f2879c8ec3143', '99d183864567f9b26386e934d6f1eebd', '92198cebae35a6d080f84b39818b724f', '156711e89b3e01f7a75d69399e1c76dd', 'b728f54bb4aad6eb3bb9963718fc166f', '05350755bd9288b08cc124e8ecb29712', '1f8527af0cc5edeca9babac2dd232276', 'd2437ed6be258fc8b48c48ae20526570', '8d1ece0783e292a27c8b42ff7cb38196', 'a4eb0de7d3b7d39b40c36b2bc0f5a6d0', '2cc8d204639c98d67cbdfd99ce839fa4', 'fd7e233762b4f96dc70863d474231f3c', 'c12536baa1b694c69958fd99b6512569', '0ee39333806c144ecdfbf2985a4dce89', 'afd5b9133eaf7333669db445cc4cab4e', '9856f2f82ab1d08053d3850d91c33083', '24076b058c56ae268e063ce13fb0e669', '78e420cf0dbe33af54c8db7384ad37b5', 'e740b7ae420f91561083886576ab209b', 'f97e3d13cdd07529ebaf4a08fac08640', 'de49d6ee81e2c3edb5e645b3c3ced78b', '5d069f64823746072b171a0cf55dc911', '9960361609accd1fbf0b8e1793e0fe1d', 'e585f0e8705144efc8d5875424098c3a', 'f6189d12d9a2a0040755cc7991997620', 'a269041438d922c38b0c784060c95697', 'f2caec51a5b7d09a18b9f18957f2d994', '518766521d1b51f7ab12facb68e271f5', '0100d89e9c9702185480ca23fa5219b0', '1e9839b5e0834ea8b4a6a10567a92d22', '3848fe35fd6f73a69ab032101c89f2f0', '0e8d94b53cb260d65d2014db672347cc', 'db190b3589a09fc42df5d7bcb0a5f581', '09bc3c1cd4b5179c0b0f483b0fbb8aae', 'b757a082aa85a50a36e08f0d901db234', '38ac95f0ff94696424811c940f4b37c0', '7dbf06aa4e4e12b848a47c8415aa66fa', '07070090bce7c9e39d1673ad00804bf5', '81f2badedcc4a9ade6c1593e8bdfb8b8', '234b5a35cf88e7929928b422144cdb0e', 'c0d3c881362b01435649f4dc8111ccbe', '927f6f60f4b37f8a7bc0eafe800703dc', '1681681647d1514956b92397badc4193', 'd4b39e3300379ef08522b3a4134fad70', 'bbfb16a7e4f0c34296ae43531caa3257', '9e592c017cad8acca6f672e1ffcc0d18', 'a29103668180d3b3695c5a89900a70bd', 'f4385ee893110d8a1a1b06b3318944a7', '2e985895648925178eebb226f626766f', '1a94bfa9277ea379ef4e680946f178b5', 'ea745fb7d7d2845bb6ac9800956f9859', '7c907eabf9b9df222836b688317c3e7a', '524ad8901e1d626ffefeda2b7334f945', 'eeeb85b1858708ceaba653cf7e90d627', '217fc3d82130f73c9235b2242dd4536b', '078e6bbaddbe8d7995ca20b6a7ad69f5', '191878fb21a88768414c02fdbc3f4779', 'ab7b967ec8f67268366a8187191607f1', '53586793bb76c756ca65bb9e7f14cb7f', 'b96ace11851fafc9bb89915814bc02ed', '8a0c42f8a84afa248681eb62ef86de68', 'ba93d4ce537cc3c8283cf9d46aab4b34', '807c7ac80441534e2b24837ae8a4bbff', '313aa9d5a088da9688a69318f8779423', 'a22e662375431c35d708d44135d20a2c', '2b39b02fdaed33b06ae27d4feef62a9c', 'cbf668cb42ead0ba0cdda4c0523fd2ef', '90c452b50ae310fd36eb7c21a1dcd622', '0ea02b3d2c463aaa08a3009ebce42db0', '778ceac5c8b9d51157e5e497cefbaebb', '3f6a44e0a58379911bd171cc1d2aab6f', 'd3e3ec5eafafe810373a4c2c728ad120', '45a663449aa04554f7e56f7533724f75', '41fc7a1ae3aa71670c6a1035f9c8c561', '6ecabb00736a670d6197a3ba70d8cc13', '5864ff7d1c1af02c0c8cfb2196b97d4d', 'ce270c6af8adf7ef63e5b776761d1146', '450a22ce94873627b45c2dd208e9db9a', 'f79c37bd2e3333c9c541cfc5c413399f', 'f044054fb79ebbc21f0c88ae6d04c1c6', '02fc6ec131dc54cc3f13cd1c4dabfc70', '56e5cd2a78aa23783be719e5a7f5503b', 'd1f6540d4e200d71f5be95f56300499f', 'ac9e4c7dbda763cb176402ee6c5f18b3', 'eb15c4e4dd0a97dea04116fb7342251c', 'c3e75eb3b031685d0b25e1df87766024', '18b2f37093615bed85c7dfc11cb760ba', '847d31376b563cf4e66b4fd165e48abb', 'b0e580ba8c2ff266bccd4af741c18906', '0be57a2c6f56044231d5b2545ce8aba4', '697dc415947b3b408e2f65d8e047fde7', 'a3733da31c8f8458327406a3131160ba', '9b0cab47334734e8edbd80cf6a434ce2', '30bae590056916e63e28a430b5f27dbb', '4befa0c638f6de465c96cb61cad5f4e7', 'eccd49947de32b387da09038cad8e2b1', '4a70f318d90ada0b8f39681e872dfcf1', '7840d5e1620d3a32057b9e1a2f4edd1f', '0f02dabe01f76ede95e476f9cb0dfdab', '3a286c24677e627507c520dc4bbcd10e', '7488a2ed6bc23dad79dac4ba4865b8fc', 'b4f9a093692cbd7181c5912478d619fb', '3d262990464303363e991dda113cbde5', '47b18f2f2e8c537687b64f6c95551d29', 'f28b2b3f7d1a37302021824965f89c12', 'c3253955ad8ed0cd7b9fd82d1c485a8e', '33588a1cfcb2db68c1e155e3fe64da1b', '58ea034a4b36d60b5361f91dad8a602b', 'a4421fae199f8a021d7ead017af0a7d5', '8de85af4881862c3950403ca7d31a13f', 'b2088ab9fcc3b60e6b2db368d6ea152c', 'b92e3a466680fd230c2647d4a79ec255', '76f0d80a630b95158c47bef24d48d0f5', '18e29623aed98272a5099474c648c308', '7a29f96f8b0bb6af057c150abf4809f0', 'a90eee8ffdffc30c288d4bc96e2f0c9a', '7b531fe96a80a9f8aeebb0a235969b77', '202639c76b5ccf0dba67e261eccf37f1', 'ebcd00df3b6454dbad0b238d24c2e14e', '3ed3ee4d06761dbd381b8150f43fd360', '8963e38ce25be8628386db06771543ed', '1fc0225dd6d2e762719a268e76cf3d76', 'a4221ecff71459f8684e4a7292a66158', '416496aa48d3e210e2b13fbfc43f4788', '4f0038adb189bf84a982f595ed712530', '9b388ac34c926f0d768c2a5c84e5b0af', 'a16995b315de1b190e84fdd4c65cfd1d', '064f9609c746d168e0c6d8663773796e', '6a815c6ebb014a0cb710eddb33fe6c97', '3c9e9f9b2ffdcd3e5e3da645209b1211', 'b9acae058dd205bfa9df2e95ce34e9e4', 'd7eb356080ba341609324bb04e5e139e', 'ebccc494f0f86719d37146ecef53a131', '650ab5e26ce1fc12290c42fa6bf578a1', 'e68035878ba45d5ba0382c370e74b81e', '9c683ae6fa91c2722f90cfa5f715bcf1', '501ad65897e7f0cc5b146947a54d688d', '8a6fb057ac311b07c1ff99b3f2300494', 'e44e79e31b1f5bf4e2eb34957211b043', '6fcbce4a288b3025c4850731f267ea1d', '2f19c8c0558f88fcd97b93b9c4e3b196', 'b3450b4aabdfabec11c9b7030f58bfae', '3ffe42fc7a6b770a276a8204504a6d9b', '4252ee7758b6701e7f4ac174e162e065', '2e210330d18c415f911cd8d1d6a992a7', '9a8ab9cab0a9695996304e5a81ae65b4', 'f749a1c0319b25b39a1f8ee34b5fc3f2', 'da3134c7ca9c716de882cec4fe1cbd9f', '94a11be6cdc1b4b64990aefe51b8980d', '9c5feea53a2aaba196c95183ae7471e7', '60f69c70d1c81eaa84e965fa827d9fc6', 'c502d7b02a1c70c6f4e54366d03ee4c3', 'ae3768e6c058dc2c53d7d1085275000b', 'c2005f205b3d5f4b5733f980874014b4', '80df237b011c310ac02d3f26bcb1a4cc', '4875a48bdc9ab9bef3842a49e6fa759e', '9527b33ff223872088c5adaea8f8c53e', 'ebe8c7e301ce42a76120a022d690a740', '7cd7c58efd6fc05c512d2bbc5ed0d11a', 'fd15cc0ed12f712935b31f6d3ea33938', 'd942de473c2773282aa237335916a7a9', '4aba0b9495c5294b3a206af270a4ac12', '0fcee1919ea83dadc304d35193c5e413', 'f0f1e951314fc7110962a871f0178d3e', 'aebe09bc4332be6d736427744b48c513', '2539df2c9581ac0934a17a2521571580', '64ace8ad20d632e6916f05477a6b441d', '980f00171ae846e541c629bf73e8f525', 'b63765331adf73333c0800a44826b452', '934c632a057f7dca1935f867ee67ca90', 'f2ee018f3806fa54e0d9770bdde9e3d8', '08efa9434a715181c66b1dda3e8a1925', '8c3207e06f0b3f5099f77e71a78f5a9f', '6e43d41b116909c81917d57eb2d5885d', '57efcea2f3b8092c762df7c2b3a8062a', '855dfc46fab318824ef71384ff4ae784', '0d248f1acfee687d65e1295c6b33aca9', 'e0a6fe1d144d852bc712f7618baf4079', '4a72dc33b8a0b9d385db7658fa7251ac', '873f3bbc2e9427143a70c98e3edfb93d', 'c0cad978dfe5d2a95188353bc8060a2d', '9e2c45d9d6606f49cebac9bc8750c445', 'e7cc12bb04c55b00046894e9e12f80c7', 'ff0c08776a3f5f653e49bf52b993feaf', '9396cc1ca937850d8ca0057c9db69642', '1d68330844686059ea650202d6a6591d', '1d356f23e984ac9c3a81a21b9bcd32f7', 'd0a8ffd07e92cfaba313796b3f2f88d6', 'de4a1313cabded6aee791c10444e4ffc', 'bc002a003a9aca64bedc50307e73ed21', '0bdced563e97e293cb4f91053bb9125f', 'af586c7f917e8516689cfd26b2144a3a', '411b9d4b94c6ddd071415caa35f0ae5d', 'eac7772da9c2b5552a4a8e70b467dfaf', 'e00563fd02e7069a9e0d227c59bc549f', 'b8e2609b98b1dfb6970e342afb56ddc3', '2854f614023afe332f2f8cf8da22dc18', 'af54a534f56c1d51e9fdedb4afa8a398', '02213aebcb2f381a0d6fde1f85e0d0a7', 'e567dd490b63de2bc0f5926ac5edf4bd', 'fd52f523ff06c11f4950d9e7ae5d0a92', '7a43ae65d87541cb75452191d31b3cf7', '40103aade2ff7d54cbbfff695beb4f6f', 'bb59f56197c7d3c0c7c1590c7798d819', '862003ad77c8310598a20551d14533c1', '03c073652fada279ed7f4219016216c7', '236a4e94b5dcc754864f3d293b61aaad', '3a56fd19dcc49299cb372d82587d56dc', '1bc2266287f1aa94f4e779dac53f7518', 'c47d50fa0db187983cc1f1f4cbe2691d', '187c9de004ea6de1401a5a62a89372b8', '5ec0ff0fbb4892f3ba2134b971eb6ebe', 'ba1bd9aeee9b1bdccf87b493a6963bd9', 'a1e30dc8e65064a1829ca90a354e5cad', '8b1423acdbde7cf12082d3b6258d4139', 'f4d34d9f38891429a2651131e5da8dcb', 'd1fe3edf61e27f665762d32fa3bf2311', '77d30db55c8b4b288dd0fde1816e0d70', 'b6effe7e74bc2b684399c16cfcf36135', '22912e40bc7cf362c2ddfb87af213380', 'e11c436582fb6acebdf5bf199fe34d77', 'e145a7010947c83774297cd16c396b4e', 'ebd1ecb89308a351190d31d474bf33d6', 'a5f7d89ebc3f0554a8c1e63d2c42989c', '50f26c115485f3ad7556233d0d0e74b2', 'c3fdca033bb9afbc1fc2a7978f4a673a', '9203105a638a32e4392ea71940908d11', 'd72c4f6fc69fedf52f159e058d12079a', 'c12c3c1cafe9592161d10911b0fbf2c9', 'a01795c0c46cde3fbc2971e4c50b623e', '2ebd8591125be1fa82a58079caafa1c1', 'e7005cd38559aa863d710ead02075095', 'b8aa1dbb64d5927a09ab4461a721a3b6', 'fa3f61bd7128b19b49a6b38f0bc29c82', '236329bd12bd82969a5bfe0a6bcd4423', '69541c9b51966f5fb476fc9f59353c3f', '00b76c95bfdf82ee9f3783d2e3e2de62', '2d2d620986cce753a23fb4fd6da394ba', '7127a893080e78afba74f8d296067cc5', 'f3c4d57a104a507a493ce379066e8d71', '1bf376176fe4ae23e30b3fcb705ada75', 'd842ee30d1230a258dc32e915121ef48', 'b254c7da2fb8cce87f735c21164d0da3', '335689063ba5efc55d841797c7b8b5ed', '011f63ea114d528177897fb168bcccfa', 'b49b5153aa661f766061e792b617802d', '94d26eb5e5608d5f1a664efd1b35a979', 'f19bf26a1ccbbeec5a89c16f108f5456', '3bd2cd0cbb2aece9100e225cd3575e67', '03623f68fd9842adce7e5a06f4cda495', '5ab11193a7b8c039848b1ca001c513e0', 'd79d07122d14f7fe58cfa8e5acb52768', '482bef50a7d4258b9cf8e1fc8dfdec7a', '0f0599b552ca13d7d835e1101a91ce10', '4b0731e779fc9c5a7230a25a017afc0e', '61a92cf9ffa1f68d79d976b46b3a11cd', '894749ae34dab2de83eae265f9f9d4db', '8d0a9373b7a72be5b481e7511832d535', 'ddf7d70a1472e5f1a8c2f80843573597', '56f9d98beb41cfff19aa5f3d58b8b8b1', '71af1032b7cc7fe6a0f1a6f1a76f0d11', '335d7f426a91ae225f18409f13a1d513', '7b97f6fb7a669ff1216e3bac28bb0492', '7a5a4f0697335c0a6bc817d5fe01b8fb', 'f01660690a404e6a39dd77a49246dafe', '941f8f4a620b24b4ea928430840f163b', '6c001ab52ad7bc4befcb6fa69e464d52', '7b8f4ff23d31d3a1614ffd1eb817a411', '0d79bd55c9376cf9b7e84d692a4403b5', '6c8e3ce51778a25e07889d9abf9e8b7f', '7b2c0505923b10f9bf0fe16e255e185d', '703828184baaac5b87e191b4eed0c3b9', '98f65d5eefd95dc05810a932bab012b8', '3ec61fbb815f2186a5007dcd10ad3308', '23081e54f984ef6f613a6ca386f1ad8c', '20a45b9675381e653db32344362a25ee', 'ddfad0c8e67eecfef946e892acd446bc', '303caca74f4b4891061a1ab7af1c3b99', '6058bd86217b4eed4e7ae4697d9cc5bf', '1774087e07dd41d8bd13361189f65969', 'aabfd4ddabf7e1a13241c726aff8d27f', '715971e5e64201a95915fb64ce2e2970', '79d5f6f4821fbd97e3054b49288dde83', '531891c7fed09426307a9f57f2abde59', 'fc95d96d1a3309e0d79b734d87514c0b', '1546dfaf52642964bc97e128bc43de93', 'b579f3ddcd168d077b711d2c894d417b', '0998f5d5c56272bb63661b33e87545fc', '4023b840998d5b1d5d6dbae30e95b1e1', '8f761f57ab60101b4fdacf1305c24e3b', '490559d10369bbd21646777ed3fc3130', 'ffc181469dbd7e58ff3962c73278923f', '7baf85344e216627f9c6b4667b929eab', '14e8792bf8eca6107c0edfbf4240fb95', '3d2f73b475a9c9e8c4aa1134e09fd915', 'dce8f4d744921d7e3bf23208159eebea', '2f0d6bcce88c1c835b30a45eb445a948', '3c6ad18e95474db0f379214e396d8d23', '77b9e8bd79e8091221e5ab59c950dfe0', '7f636cad4e25a234701e0bc7bbaa158d', '01adcab4c7edb63052bb20eddcfb70ff', '0751106270fbe0972e340313877a22bd', 'cf959c344b6cda26d4881ae29ac7dc35', 'a825278e6310e7d83ecdced463ee2e96', '82ec28f4eb0918d110f75bb06fc92727', 'a59c68f25221936cca646cee40d6386d', '5c5e63585de76bbe6675b49c7cafa748', '3e63996b37e151a77f62f7a309f2e82b', '729992c00402a12dd4ea60a5028592c3', '7fa5d13fab7cc23b83654f16b2be059d', '08faad54cfe52aa762b068c6a62cb49f', 'aa079299514390f43e8fe32c1cccef63', 'a544ac9a69ef3750c8bf72e35fd17541', '145f282924b2250d6843af1c5fcd6248', '484fc3252a2d30ed4cd908ebdb288817', 'a1915a1bb565cad1e6a29017d7468138', 'f012f528a5c380353f5ec8e53bd9a6a1', '9e5dc1e4ec60d7eb373e3d28275d589b', 'f5bb85281301c74ce589d59056830f79', '92e164a7aff015e521f6099f5711bf2a', '2e056d2d6527f7db8e6f99055b7686c1', '2b5782e5ed225c5e321cc13cdf3cdb55', 'b73605c8bbbe3756748f4e362711bc09', '8daab14db3cdb65771dcf1c064c15f15', '7b7384d95b1ca4290084cdae1de40abd', '1675eacd2b4deaaa3c7e2b7f5e15a19c', '95c6dfee7b0d18875569fec7bd923ae3', 'bbfca04442d8ac6351b3dd93eee6404e', 'd046695ca9056f0951c80d6ffc0ad4ac', '45472c4129e21f9881cb3055059fe2cb', 'e534a92ef54ec04add62e39784fbf1b9', '4d85b41fe192746a4d1affc3ea01b5ca', '3ff547509d47b30fcc9b3af597f0f142', '6d9bca654e67c55eb4d14bc2e6c58a2e', '71c4d5af5a2f9b308547bedd7c1a4b35', 'da1afa0edf904467ea034e878be007ab', 'ed2ab96bbe51d53364a6d63bf5f7fe84', '297df04e1d124c836c4fc01adde08502', '69342bd7e3b29bfc2e4668476c9bddbc', 'e04a6bf2305157236d4c86b3ef9f9f68', '236510ab246b58b6b74cc443a9a3d67e', '47ee2e7f4101cceb8d6ca61c368cb3d3', 'aad16a43a93d3d70a0a85c4ee9ef7556', 'f427bd13ee398c9a374f6a9c962ff3ab', 'faaa731a36cf7ba899ba8033a0bb0432', 'edcbbe536564abb6a10200f7e787bd4f', 'eeddbe5afd623d0d79e6ac5fdfafffc2', '6f0d35a468a19fbda67ac0a3cf8ee700', 'fc5e8c3e7bbf894d966a4f11ad40b2d1', '171c93d8fd4be1288e9cce83ef2721e5', 'c34d4a62a5ac600140ced2d3235683c0', '3d6749f6879347267c35a2364efa3320', 'c29a820e53e33c3158144095d07e9dfe', '99fdebf210f4e92eaede84963113c281', '51b77498c573d9c02b2fd699d3f135af', '6bfd6ac7f5e37d2f6e35d9146612baf7', '029a4ab954c138f225fc441d284d607e', '6b36688a593216ece4ef5f6d00f766e6', '68163ff87cfbccaf99a76439ae5bf0dd', '50387b9037c9681c8c81fb9f0ac02f9f', '147b2a558a7a6b2734833f4db56f14ff', 'bfcdd41df38c1ba01fcfc0cb2f883abe', 'be94c61e6d638a6cc68fa57a4ea3afe8', '186a86f56e6677cee80e88c89d1cae48', 'abc041da5bae0513f503130e3282a216', 'e0cb3f3d1128ad034856dbf291ce8d02', '4670ae724396b055f104454e59c6ada0', '7eb70385acd55b87322b8325c90723e2', '3e13ace95d5fe2de92f4b9683db14d36']\n"
     ]
    },
    {
     "name": "stderr",
     "output_type": "stream",
     "text": [
      "INFO:absl:CachingModelWrapper 'sst_tiny': 872 misses out of 872 inputs\n",
      "INFO:absl:Prepared 872 inputs for model\n",
      "INFO:absl:Received 872 predictions from model\n",
      "INFO:absl:Requested types: ['LitType']\n",
      "INFO:absl:Will return keys: {'tokens', 'layer_2/attention', 'cls_grad', 'layer_1/avg_emb', 'input_embs_sentence', 'grad_class', 'probas', 'layer_1/attention', 'tokens_sentence', 'cls_emb', 'layer_2/avg_emb', 'layer_0/avg_emb', 'token_grad_sentence'}\n",
      "INFO:absl:Warm-start of model 'sst_tiny' on dataset '_union_empty'\n",
      "INFO:absl:CachingModelWrapper 'sst_tiny': misses (dataset=_union_empty): []\n",
      "INFO:absl:CachingModelWrapper 'sst_tiny': 0 misses out of 0 inputs\n",
      "INFO:absl:Prepared 0 inputs for model\n",
      "INFO:absl:Received 0 predictions from model\n",
      "INFO:absl:Requested types: ['LitType']\n",
      "INFO:absl:Will return keys: {'tokens', 'layer_2/attention', 'cls_grad', 'layer_1/avg_emb', 'input_embs_sentence', 'grad_class', 'probas', 'layer_1/attention', 'tokens_sentence', 'cls_emb', 'layer_2/avg_emb', 'layer_0/avg_emb', 'token_grad_sentence'}\n",
      "INFO:absl:CachingModelWrapper 'sst_tiny': no cache path specified, not saving.\n"
     ]
    }
   ],
   "source": [
    "# Create the LIT widget with the model and dataset to analyze.\n",
    "from lit_nlp import notebook\n",
    "from lit_nlp.examples.datasets import glue\n",
    "from lit_nlp.examples.models import glue_models\n",
    "\n",
    "datasets = {'sst_dev': glue.SST2Data('validation')}\n",
    "models = {'sst_tiny': glue_models.SST2Model('./')}\n",
    "\n",
    "widget = notebook.LitWidget(models, datasets, height=800)"
   ]
  },
  {
   "cell_type": "code",
   "execution_count": 5,
   "metadata": {
    "id": "9GSfs1waBdLd"
   },
   "outputs": [
    {
     "data": {
      "text/html": [
       "\n",
       "      <style>div.output_scroll { height: 810px; }</style>\n",
       "      <iframe id='lit-frame-6bda476d745bcce7' width='100%' height='800' frameborder='0'>\n",
       "      </iframe>\n",
       "      <script>\n",
       "        (function() {\n",
       "          const frame = document.getElementById(\"lit-frame-6bda476d745bcce7\");\n",
       "          const urlStr = \"/\" + '?'\n",
       "          const url = new URL(urlStr, window.location);\n",
       "          const port = 39131;\n",
       "          if (port) {\n",
       "            url.port = port;\n",
       "          }\n",
       "          frame.src = url;\n",
       "        })();\n",
       "      </script>\n",
       "    "
      ],
      "text/plain": [
       "<IPython.core.display.HTML object>"
      ]
     },
     "metadata": {},
     "output_type": "display_data"
    }
   ],
   "source": [
    "# Render the widget\n",
    "widget.render()"
   ]
  },
  {
   "cell_type": "code",
   "execution_count": null,
   "metadata": {},
   "outputs": [],
   "source": []
  }
 ],
 "metadata": {
  "colab": {
   "collapsed_sections": [],
   "name": "LIT in Notebooks",
   "provenance": []
  },
  "kernelspec": {
   "display_name": "Python 3",
   "language": "python",
   "name": "python3"
  },
  "language_info": {
   "codemirror_mode": {
    "name": "ipython",
    "version": 3
   },
   "file_extension": ".py",
   "mimetype": "text/x-python",
   "name": "python",
   "nbconvert_exporter": "python",
   "pygments_lexer": "ipython3",
   "version": "3.7.15"
  }
 },
 "nbformat": 4,
 "nbformat_minor": 1
}
